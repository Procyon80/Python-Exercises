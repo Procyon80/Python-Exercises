{
 "cells": [
  {
   "cell_type": "code",
   "execution_count": 1,
   "metadata": {},
   "outputs": [
    {
     "name": "stdout",
     "output_type": "stream",
     "text": [
      "25 is less then 30\n"
     ]
    }
   ],
   "source": [
    "if 25 < 30 :\n",
    "    print(\"25 is less then 30\")"
   ]
  },
  {
   "cell_type": "code",
   "execution_count": 2,
   "metadata": {},
   "outputs": [],
   "source": [
    "if 25 > 30 :\n",
    "    print(\"Really!??!\")"
   ]
  },
  {
   "cell_type": "code",
   "execution_count": 3,
   "metadata": {},
   "outputs": [],
   "source": [
    "if 25 == 35:\n",
    "    print(\"Nothing will be printed\")"
   ]
  },
  {
   "cell_type": "code",
   "execution_count": 4,
   "metadata": {},
   "outputs": [
    {
     "name": "stdout",
     "output_type": "stream",
     "text": [
      "35 and 25 are NOT equal\n"
     ]
    }
   ],
   "source": [
    "if not 25 == 35 :\n",
    "    print(\"35 and 25 are NOT equal\")"
   ]
  },
  {
   "cell_type": "code",
   "execution_count": 5,
   "metadata": {},
   "outputs": [],
   "source": [
    "salary = 1000\n",
    "expenses = 770"
   ]
  },
  {
   "cell_type": "code",
   "execution_count": 6,
   "metadata": {},
   "outputs": [],
   "source": [
    "living_within_means = False\n",
    "\n",
    "if salary - expenses > 0 :\n",
    "    living_within_means = True"
   ]
  },
  {
   "cell_type": "code",
   "execution_count": 7,
   "metadata": {},
   "outputs": [
    {
     "name": "stdout",
     "output_type": "stream",
     "text": [
      "Am I living within means? True\n"
     ]
    }
   ],
   "source": [
    "print(\"Am I living within means?\", living_within_means)"
   ]
  },
  {
   "cell_type": "code",
   "execution_count": 8,
   "metadata": {},
   "outputs": [
    {
     "name": "stdout",
     "output_type": "stream",
     "text": [
      "Savings for the month:  230\n"
     ]
    }
   ],
   "source": [
    "salary = 1000\n",
    "expenses = 770\n",
    "\n",
    "if salary > expenses:\n",
    "    print(\"Savings for the month: \", salary - expenses)\n",
    "else:\n",
    "    print(\"Loans to tide you over: \", expenses - salary)"
   ]
  },
  {
   "cell_type": "code",
   "execution_count": 9,
   "metadata": {},
   "outputs": [
    {
     "name": "stdout",
     "output_type": "stream",
     "text": [
      "Loans to tide you over:  100\n"
     ]
    }
   ],
   "source": [
    "salary = 1000\n",
    "expenses = 1100\n",
    "\n",
    "if salary > expenses:\n",
    "    print(\"Savings for the month: \", salary - expenses)\n",
    "else:\n",
    "    print(\"Loans to tide you over: \", expenses - salary)"
   ]
  },
  {
   "cell_type": "code",
   "execution_count": 10,
   "metadata": {},
   "outputs": [
    {
     "name": "stdout",
     "output_type": "stream",
     "text": [
      "Loans:  260\n"
     ]
    }
   ],
   "source": [
    "salary = 900\n",
    "expenses = 1160\n",
    "\n",
    "if salary > expenses:\n",
    "    savings = salary - expenses\n",
    "    print(\"Savings :\", savings)\n",
    "else:\n",
    "    loans = abs(salary - expenses)\n",
    "    print(\"Loans: \", loans)\n",
    "#print(\"Savings: \")"
   ]
  },
  {
   "cell_type": "markdown",
   "metadata": {},
   "source": [
    "ELIF statements     "
   ]
  },
  {
   "cell_type": "code",
   "execution_count": 11,
   "metadata": {},
   "outputs": [
    {
     "name": "stdout",
     "output_type": "stream",
     "text": [
      "do better than 40\n"
     ]
    }
   ],
   "source": [
    "math_score = 40\n",
    "\n",
    "if math_score < 20:\n",
    "    print(\"not a great score\", math_score)\n",
    "elif math_score < 50:\n",
    "    print(\"do better than\", math_score)\n",
    "elif math_score < 80:\n",
    "    print(\"close!\")\n"
   ]
  },
  {
   "cell_type": "code",
   "execution_count": null,
   "metadata": {},
   "outputs": [],
   "source": []
  }
 ],
 "metadata": {
  "interpreter": {
   "hash": "e7370f93d1d0cde622a1f8e1c04877d8463912d04d973331ad4851f04de6915a"
  },
  "kernelspec": {
   "display_name": "Python 3.10.4 64-bit",
   "language": "python",
   "name": "python3"
  },
  "language_info": {
   "codemirror_mode": {
    "name": "ipython",
    "version": 3
   },
   "file_extension": ".py",
   "mimetype": "text/x-python",
   "name": "python",
   "nbconvert_exporter": "python",
   "pygments_lexer": "ipython3",
   "version": "3.10.4"
  },
  "orig_nbformat": 4
 },
 "nbformat": 4,
 "nbformat_minor": 2
}
