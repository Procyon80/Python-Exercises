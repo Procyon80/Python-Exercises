{
 "cells": [
  {
   "cell_type": "code",
   "execution_count": 4,
   "metadata": {},
   "outputs": [],
   "source": [
    "# while True:\n",
    "while False:\n",
    "    print(\"Will be printed 4ever\")"
   ]
  },
  {
   "cell_type": "code",
   "execution_count": 5,
   "metadata": {},
   "outputs": [
    {
     "name": "stdout",
     "output_type": "stream",
     "text": [
      "5\n"
     ]
    }
   ],
   "source": [
    "a = 5\n",
    "while a == 5:\n",
    "    print(a)\n",
    "    a = a * 2"
   ]
  },
  {
   "cell_type": "code",
   "execution_count": 6,
   "metadata": {},
   "outputs": [
    {
     "data": {
      "text/plain": [
       "10"
      ]
     },
     "execution_count": 6,
     "metadata": {},
     "output_type": "execute_result"
    }
   ],
   "source": [
    "a"
   ]
  },
  {
   "cell_type": "code",
   "execution_count": 7,
   "metadata": {},
   "outputs": [
    {
     "name": "stdout",
     "output_type": "stream",
     "text": [
      "45\n",
      "46\n",
      "47\n",
      "48\n",
      "49\n"
     ]
    }
   ],
   "source": [
    "c = 45\n",
    "while c <50:\n",
    "    print(c)\n",
    "    c=c+1"
   ]
  },
  {
   "cell_type": "code",
   "execution_count": 8,
   "metadata": {},
   "outputs": [
    {
     "name": "stdout",
     "output_type": "stream",
     "text": [
      "64\n",
      "67\n",
      "70\n",
      "73\n"
     ]
    }
   ],
   "source": [
    "d = 64\n",
    "while d<=75:\n",
    "    print(d)\n",
    "    d +=3"
   ]
  },
  {
   "cell_type": "code",
   "execution_count": 9,
   "metadata": {},
   "outputs": [
    {
     "name": "stdout",
     "output_type": "stream",
     "text": [
      "i is positive 5\n",
      "i is positive 4\n",
      "i is positive 3\n",
      "i is positive 2\n",
      "i is positive 1\n"
     ]
    }
   ],
   "source": [
    "p = 5\n",
    "while p:\n",
    "    print(\"i is positive\", p)\n",
    "    p -= 1"
   ]
  },
  {
   "cell_type": "markdown",
   "metadata": {},
   "source": [
    "Provide answer in the input box above"
   ]
  },
  {
   "cell_type": "code",
   "execution_count": 10,
   "metadata": {},
   "outputs": [
    {
     "name": "stdout",
     "output_type": "stream",
     "text": [
      "That's right:=)\n"
     ]
    }
   ],
   "source": [
    "car = input(\"What's my favourite car?\")\n",
    "while car !=\"Audi\":\n",
    "    car = input(\"Wrong, guess again\\n\")\n",
    "print(\"That's right:=)\")"
   ]
  },
  {
   "cell_type": "code",
   "execution_count": 11,
   "metadata": {},
   "outputs": [
    {
     "name": "stdout",
     "output_type": "stream",
     "text": [
      "Arrow\n",
      "Ols\n",
      "Must\n",
      "Fave! Must\n"
     ]
    }
   ],
   "source": [
    "classic_cars = [\"Arrow\", \"Ols\", \"Must\", \"Corv\", \"Alfa\"]\n",
    "for i in classic_cars:\n",
    "    print(i)\n",
    "    if i == \"Must\":\n",
    "        print(\"Fave!\", i)\n",
    "        break"
   ]
  },
  {
   "cell_type": "code",
   "execution_count": 12,
   "metadata": {},
   "outputs": [
    {
     "name": "stdout",
     "output_type": "stream",
     "text": [
      "Whitin the loop: Arrow\n",
      "Whitin the loop: Ols\n",
      "Whitin the loop: Must\n",
      "Whitin the loop: Corv\n",
      "This is my fave Alfa\n"
     ]
    }
   ],
   "source": [
    "for x in classic_cars:\n",
    "    if x == \"Alfa\":\n",
    "        print(\"This is my fave\", x)\n",
    "        break\n",
    "    print(\"Whitin the loop:\", x)"
   ]
  },
  {
   "cell_type": "code",
   "execution_count": 13,
   "metadata": {},
   "outputs": [
    {
     "name": "stdout",
     "output_type": "stream",
     "text": [
      "Checking num ...  100\n",
      "Not a multiple of 3\n",
      "Checking num ...  34\n",
      "Not a multiple of 3\n",
      "Checking num ...  67\n",
      "Not a multiple of 3\n",
      "Checking num ...  89\n",
      "Not a multiple of 3\n",
      "Checking num ...  78\n",
      "Multiple of 3!\n"
     ]
    }
   ],
   "source": [
    "nr_list = [100,34,67,89,78,21,36]\n",
    "for n in nr_list:\n",
    "    print(\"Checking num ... \",n)\n",
    "    if n % 3 == 0:\n",
    "        print(\"Multiple of 3!\")\n",
    "        break\n",
    "    print(\"Not a multiple of 3\")"
   ]
  },
  {
   "cell_type": "code",
   "execution_count": null,
   "metadata": {},
   "outputs": [],
   "source": []
  }
 ],
 "metadata": {
  "interpreter": {
   "hash": "916dbcbb3f70747c44a77c7bcd40155683ae19c65e1c03b4aa3499c5328201f1"
  },
  "kernelspec": {
   "display_name": "Python 3.8.10 64-bit",
   "language": "python",
   "name": "python3"
  },
  "language_info": {
   "codemirror_mode": {
    "name": "ipython",
    "version": 3
   },
   "file_extension": ".py",
   "mimetype": "text/x-python",
   "name": "python",
   "nbconvert_exporter": "python",
   "pygments_lexer": "ipython3",
   "version": "3.8.10"
  },
  "orig_nbformat": 4
 },
 "nbformat": 4,
 "nbformat_minor": 2
}
