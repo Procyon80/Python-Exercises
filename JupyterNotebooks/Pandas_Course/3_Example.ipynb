{
 "cells": [
  {
   "cell_type": "code",
   "execution_count": 1,
   "metadata": {},
   "outputs": [],
   "source": [
    "import sqlite3"
   ]
  },
  {
   "cell_type": "code",
   "execution_count": 2,
   "metadata": {},
   "outputs": [
    {
     "ename": "NameError",
     "evalue": "name 'small_df' is not defined",
     "output_type": "error",
     "traceback": [
      "\u001b[0;31m---------------------------------------------------------------------------\u001b[0m",
      "\u001b[0;31mNameError\u001b[0m                                 Traceback (most recent call last)",
      "\u001b[1;32m/home/alexs/Documents/Python-Exercises/JupyterNotebooks/Pandas_Course/3_Example.ipynb Cell 2'\u001b[0m in \u001b[0;36m<cell line: 1>\u001b[0;34m()\u001b[0m\n\u001b[1;32m      <a href='vscode-notebook-cell:/home/alexs/Documents/Python-Exercises/JupyterNotebooks/Pandas_Course/3_Example.ipynb#ch0000001?line=0'>1</a>\u001b[0m \u001b[39mwith\u001b[39;00m sqlite3\u001b[39m.\u001b[39mconnect(\u001b[39m'\u001b[39m\u001b[39mmy_database.db\u001b[39m\u001b[39m'\u001b[39m) \u001b[39mas\u001b[39;00m conn:\n\u001b[0;32m----> <a href='vscode-notebook-cell:/home/alexs/Documents/Python-Exercises/JupyterNotebooks/Pandas_Course/3_Example.ipynb#ch0000001?line=1'>2</a>\u001b[0m     small_df\u001b[39m.\u001b[39mto_sql(\u001b[39m'\u001b[39m\u001b[39mTate\u001b[39m\u001b[39m'\u001b[39m , conn)\n",
      "\u001b[0;31mNameError\u001b[0m: name 'small_df' is not defined"
     ]
    }
   ],
   "source": [
    "with sqlite3.connect('my_database.db') as conn:\n",
    "    small_df.to_sql('Tate' , conn)"
   ]
  },
  {
   "cell_type": "code",
   "execution_count": 4,
   "metadata": {},
   "outputs": [],
   "source": [
    "import sqlalchemy as sa"
   ]
  },
  {
   "cell_type": "code",
   "execution_count": null,
   "metadata": {},
   "outputs": [],
   "source": [
    "with sa.create_engine('postgresql://localhost/mydata') as conn:\n",
    "    small_df.to_sql('Tate' , conn)"
   ]
  }
 ],
 "metadata": {
  "kernelspec": {
   "display_name": "Python 3.10.4 64-bit",
   "language": "python",
   "name": "python3"
  },
  "language_info": {
   "codemirror_mode": {
    "name": "ipython",
    "version": 3
   },
   "file_extension": ".py",
   "mimetype": "text/x-python",
   "name": "python",
   "nbconvert_exporter": "python",
   "pygments_lexer": "ipython3",
   "version": "3.10.4"
  },
  "orig_nbformat": 4,
  "vscode": {
   "interpreter": {
    "hash": "916dbcbb3f70747c44a77c7bcd40155683ae19c65e1c03b4aa3499c5328201f1"
   }
  }
 },
 "nbformat": 4,
 "nbformat_minor": 2
}
